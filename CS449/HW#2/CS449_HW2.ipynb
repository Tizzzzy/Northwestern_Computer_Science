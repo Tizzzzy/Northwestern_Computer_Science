{
  "cells": [
    {
      "cell_type": "code",
      "execution_count": null,
      "metadata": {
        "id": "hOZjFctLVuxR"
      },
      "outputs": [],
      "source": [
        "!pip install datasets"
      ]
    },
    {
      "cell_type": "code",
      "execution_count": 39,
      "metadata": {
        "id": "-VAo7N96WSik"
      },
      "outputs": [],
      "source": [
        "import matplotlib.pyplot as plt\n",
        "from datasets import load_dataset\n",
        "import random\n",
        "from PIL import ImageOps, ImageEnhance, Image\n",
        "import random\n",
        "from IPython.display import display"
      ]
    },
    {
      "cell_type": "code",
      "execution_count": null,
      "metadata": {
        "id": "7YMOZ2urWSf5"
      },
      "outputs": [],
      "source": [
        "dataset = load_dataset('valhalla/emoji-dataset')"
      ]
    },
    {
      "cell_type": "code",
      "execution_count": 41,
      "metadata": {
        "colab": {
          "base_uri": "https://localhost:8080/"
        },
        "id": "Kb3_eXaL0R4H",
        "outputId": "b2d37f33-a16a-4aa3-a9b4-6204c0fd7754"
      },
      "outputs": [
        {
          "data": {
            "text/plain": [
              "DatasetDict({\n",
              "    train: Dataset({\n",
              "        features: ['image', 'text'],\n",
              "        num_rows: 2749\n",
              "    })\n",
              "})"
            ]
          },
          "execution_count": 41,
          "metadata": {},
          "output_type": "execute_result"
        }
      ],
      "source": [
        "dataset"
      ]
    },
    {
      "cell_type": "markdown",
      "metadata": {
        "id": "DdNV5PJ4KdZn"
      },
      "source": [
        "# Convert image from PIL object to png, and store in different folder"
      ]
    },
    {
      "cell_type": "code",
      "execution_count": 42,
      "metadata": {
        "id": "TlprEc8aWSda"
      },
      "outputs": [],
      "source": [
        "def save_image(types, images_list):\n",
        "    new_image_list = []\n",
        "    for image_data in images_list:\n",
        "        image = image_data['image']\n",
        "        text = image_data['text']\n",
        "        plt.imshow(image)\n",
        "        plt.axis('off')\n",
        "        new_image_list.append({'image': f'{types}/{text}.png', 'text': text})\n",
        "        plt.savefig(f'{types}/{text}.png', bbox_inches='tight')\n",
        "        plt.show()\n",
        "\n",
        "        # reduce resolution\n",
        "        image = Image.open(f'{types}/{text}.png')\n",
        "        image = image.resize((64, 64))\n",
        "        image.save(f'{types}/{text}.png')\n",
        "        display(image)\n",
        "\n",
        "    return new_image_list"
      ]
    },
    {
      "cell_type": "markdown",
      "metadata": {
        "id": "BpcK8xIF5g9V"
      },
      "source": [
        "before run this code, make sure you created train, validation, test folder"
      ]
    },
    {
      "cell_type": "code",
      "execution_count": null,
      "metadata": {
        "colab": {
          "base_uri": "https://localhost:8080/",
          "height": 1000
        },
        "id": "pdnazOMqWSaw",
        "outputId": "15c9783c-16de-4639-d125-78fdba0c8976"
      },
      "outputs": [],
      "source": [
        "selected_data = []\n",
        "for data in dataset['train']:\n",
        "    image = data['image']\n",
        "    text = data['text']\n",
        "    if 'face' in text or 'superhero' in text:\n",
        "        selected_data.append(data)\n",
        "\n",
        "random.shuffle(selected_data)\n",
        "total_data = len(selected_data)\n",
        "train_split = int(0.6 * total_data)\n",
        "validation_split = int(0.2 * total_data) + train_split\n",
        "\n",
        "train_data = selected_data[:train_split]\n",
        "train_data = save_image(\"train\", train_data)\n",
        "validation_data = selected_data[train_split:validation_split]\n",
        "validation_data = save_image(\"validation\", validation_data)\n",
        "test_data = selected_data[validation_split:]\n",
        "test_data = save_image(\"test\", test_data)"
      ]
    },
    {
      "cell_type": "markdown",
      "metadata": {
        "id": "ZwGQRiK1KvFm"
      },
      "source": [
        "Now we have separate dataset into train_data, validation_data, test_data"
      ]
    },
    {
      "cell_type": "code",
      "execution_count": 44,
      "metadata": {
        "colab": {
          "base_uri": "https://localhost:8080/"
        },
        "id": "KyMaJIug2TeL",
        "outputId": "5568fa1f-72ea-4c1a-859b-2997178e2316"
      },
      "outputs": [
        {
          "name": "stdout",
          "output_type": "stream",
          "text": [
            "{'image': 'train/dog face.png', 'text': 'dog face'}\n"
          ]
        }
      ],
      "source": [
        "print(train_data[0])"
      ]
    },
    {
      "cell_type": "markdown",
      "metadata": {
        "id": "gue4Yh6gK70m"
      },
      "source": [
        "# Expand the dataset by applying data augmentation"
      ]
    },
    {
      "cell_type": "code",
      "execution_count": 45,
      "metadata": {
        "id": "OA_sqJ4naS-U"
      },
      "outputs": [],
      "source": [
        "def data_augmentation(image_path, round, label):\n",
        "    # Load the image from the given path\n",
        "    image = Image.open(image_path)\n",
        "\n",
        "    operations = [\n",
        "        lambda x: x.rotate(random.randint(-30, 30)),\n",
        "        lambda x: ImageOps.mirror(x),\n",
        "        lambda x: ImageOps.flip(x),\n",
        "        lambda x: ImageEnhance.Brightness(x).enhance(random.uniform(0.5, 1.5)),\n",
        "        lambda x: ImageEnhance.Contrast(x).enhance(random.uniform(0.5, 1.5)),\n",
        "        lambda x: ImageEnhance.Color(x).enhance(random.uniform(0.5, 1.5)),\n",
        "    ]\n",
        "\n",
        "    # Apply two random transformations\n",
        "    ops = random.sample(operations, 2)\n",
        "    for op in ops:\n",
        "      image = op(image)\n",
        "\n",
        "    first, ext = image_path.rsplit('.', 1)\n",
        "    new_file_path = f\"{first}_aug_{round}.{ext}\"\n",
        "    image.save(new_file_path)\n",
        "    print(new_file_path)\n",
        "    if \"train\" in first:\n",
        "        train_data.append({'image': new_file_path, 'text': label})\n",
        "    elif \"validation\" in first:\n",
        "        validation_data.append({'image': new_file_path, 'text': label})\n",
        "    elif \"test\" in first:\n",
        "        test_data.append({'image': new_file_path, 'text': label})\n"
      ]
    },
    {
      "cell_type": "code",
      "execution_count": null,
      "metadata": {
        "id": "RVNQbCsuuUy0"
      },
      "outputs": [],
      "source": [
        "def expand_dataset(datas, rounds = 5):\n",
        "    original_datas = datas[:]\n",
        "    for round in range(rounds):\n",
        "        for data in original_datas:\n",
        "            image = data['image']\n",
        "            text = data['text']\n",
        "            data_augmentation(image, round, text)\n"
      ]
    },
    {
      "cell_type": "code",
      "execution_count": null,
      "metadata": {
        "colab": {
          "base_uri": "https://localhost:8080/"
        },
        "id": "-oURQMJ3rxSj",
        "outputId": "c7f2d7ad-4074-4fca-9005-9f099a75a34d"
      },
      "outputs": [],
      "source": [
        "expand_dataset(train_data, 5)\n",
        "expand_dataset(validation_data, 5)\n",
        "expand_dataset(test_data, 5)"
      ]
    },
    {
      "cell_type": "markdown",
      "metadata": {
        "id": "2MgyphlbMCw3"
      },
      "source": [
        "Now we have enough data in dataset"
      ]
    },
    {
      "cell_type": "code",
      "execution_count": 47,
      "metadata": {
        "colab": {
          "base_uri": "https://localhost:8080/"
        },
        "id": "FW8-qO5zrxQU",
        "outputId": "92f6d431-971c-4b36-8565-677aa4d209f8"
      },
      "outputs": [
        {
          "name": "stdout",
          "output_type": "stream",
          "text": [
            "600\n",
            "{'image': 'train/dog face.png', 'text': 'dog face'}\n"
          ]
        }
      ],
      "source": [
        "train_data = train_data[:600]\n",
        "validation_data = validation_data[:200]\n",
        "test_data = test_data[:200]\n",
        "\n",
        "print(len(train_data))\n",
        "print(train_data[0])"
      ]
    },
    {
      "cell_type": "markdown",
      "metadata": {
        "id": "jFWexAWF5xC7"
      },
      "source": [
        "load all the data into datasets"
      ]
    },
    {
      "cell_type": "code",
      "execution_count": 48,
      "metadata": {
        "id": "VwASSb5J6Aty"
      },
      "outputs": [],
      "source": [
        "import torch\n",
        "from torch.utils.data import Dataset, DataLoader\n",
        "from torchvision import transforms\n",
        "from PIL import Image\n",
        "\n",
        "class CustomDataset(Dataset):\n",
        "    def __init__(self, data_list, transform=None):\n",
        "        self.data_list = data_list\n",
        "        self.transform = transform\n",
        "\n",
        "    def __len__(self):\n",
        "        return len(self.data_list)\n",
        "\n",
        "    def __getitem__(self, idx):\n",
        "        item = self.data_list[idx]\n",
        "        image = Image.open(item['image'])\n",
        "        text = item['text']\n",
        "        if self.transform:\n",
        "            image = self.transform(image)\n",
        "        return image, text\n",
        "\n",
        "train_transform = transforms.Compose([\n",
        "    transforms.Resize((64, 64)),\n",
        "    transforms.ToTensor(),\n",
        "])\n",
        "\n",
        "train_dataset = CustomDataset(train_data, transform=train_transform)\n",
        "val_dataset = CustomDataset(validation_data, transform=train_transform)\n",
        "test_dataset = CustomDataset(test_data, transform=train_transform)\n",
        "\n",
        "train_loader = DataLoader(train_dataset, batch_size=32, shuffle=True)\n",
        "val_loader = DataLoader(val_dataset, batch_size=32, shuffle=False)\n",
        "test_loader = DataLoader(test_dataset, batch_size=32, shuffle=False)\n"
      ]
    },
    {
      "cell_type": "markdown",
      "metadata": {
        "id": "Mu4p-AU175tH"
      },
      "source": [
        "Now batch size is set to 32, therefore each iteration will print out 32 image, and the length of train_loader will be 600/32 = 19"
      ]
    },
    {
      "cell_type": "code",
      "execution_count": null,
      "metadata": {
        "colab": {
          "base_uri": "https://localhost:8080/"
        },
        "id": "H0YQQfgm6Y57",
        "outputId": "8d1da7de-ffd2-4071-e28f-26c45a743416"
      },
      "outputs": [],
      "source": [
        "for images, labels in train_loader:\n",
        "    print(images) \n",
        "    print(labels) \n",
        "    break \n",
        "print(len(train_loader))\n",
        "print(len(images), len(images[0]), len(images[0][0]))"
      ]
    },
    {
      "cell_type": "markdown",
      "metadata": {
        "id": "-pdYkZ2KgGBV"
      },
      "source": [
        "# Problem 1: Convolution based autoencoder"
      ]
    },
    {
      "cell_type": "code",
      "execution_count": 94,
      "metadata": {
        "id": "SCvhnISBrxNw"
      },
      "outputs": [],
      "source": [
        "import torch\n",
        "import torch.nn as nn\n",
        "import torch.optim as optim\n",
        "import torch.nn.functional as F"
      ]
    },
    {
      "cell_type": "code",
      "execution_count": 95,
      "metadata": {
        "id": "VnjIOjzP1AVo"
      },
      "outputs": [],
      "source": [
        "class AutoEncoderCNN(nn.Module):\n",
        "    def __init__(self):\n",
        "        super(AutoEncoderCNN, self).__init__()\n",
        "        # Encoder\n",
        "        self.encoder = nn.Sequential(\n",
        "            nn.Conv2d(4, 32, kernel_size=5, stride=1, padding=2),\n",
        "            nn.ReLU(),\n",
        "            nn.MaxPool2d(kernel_size=2, stride=2),\n",
        "            nn.Conv2d(32, 64, kernel_size=5, stride=1, padding=2),\n",
        "            nn.ReLU(),\n",
        "            nn.MaxPool2d(kernel_size=2, stride=2),\n",
        "            nn.Conv2d(64, 128, kernel_size=5, stride=1, padding=2),\n",
        "            nn.ReLU(),\n",
        "            nn.MaxPool2d(kernel_size=2, stride=2),\n",
        "            nn.Conv2d(128, 256, kernel_size=5, stride=1, padding=2),\n",
        "            nn.ReLU(),\n",
        "            nn.MaxPool2d(kernel_size=2, stride=2),\n",
        "        )\n",
        "        # Decoder\n",
        "        self.decoder = nn.Sequential(\n",
        "            nn.ConvTranspose2d(256, 128, kernel_size=5, stride=1, padding=2),\n",
        "            nn.ReLU(),\n",
        "            nn.Upsample(scale_factor=2, mode='nearest'),\n",
        "            nn.ConvTranspose2d(128, 64, kernel_size=5, stride=1, padding=2),\n",
        "            nn.ReLU(),\n",
        "            nn.Upsample(scale_factor=2, mode='nearest'),\n",
        "            nn.ConvTranspose2d(64, 32, kernel_size=5, stride=1, padding=2),\n",
        "            nn.ReLU(),\n",
        "            nn.Upsample(scale_factor=2, mode='nearest'),\n",
        "            nn.ConvTranspose2d(32, 4, kernel_size=5, stride=1, padding=2),\n",
        "            nn.Upsample(scale_factor=2, mode='nearest'),\n",
        "            nn.Sigmoid(),\n",
        "        )\n",
        "\n",
        "    def forward(self, x):\n",
        "        # print(f\"Input: {x.size()}\")\n",
        "        x = self.encoder(x)\n",
        "        # print(f\"Encoded: {x.size()}\")\n",
        "        x = self.decoder(x)\n",
        "        # print(f\"Output: {x.size()}\")\n",
        "        return x\n"
      ]
    },
    {
      "cell_type": "markdown",
      "metadata": {
        "id": "y238MYp3dza9"
      },
      "source": [
        "summary of the model"
      ]
    },
    {
      "cell_type": "code",
      "execution_count": 96,
      "metadata": {
        "id": "S3mdy97WdwI8"
      },
      "outputs": [],
      "source": [
        "from torchsummary import summary"
      ]
    },
    {
      "cell_type": "code",
      "execution_count": null,
      "metadata": {
        "colab": {
          "base_uri": "https://localhost:8080/"
        },
        "id": "Ib_0FGM0d67r",
        "outputId": "f2824e12-238b-4256-cb14-16f39c8f9dae"
      },
      "outputs": [],
      "source": [
        "model = AutoEncoderCNN()\n",
        "\n",
        "device = torch.device(\"cuda\" if torch.cuda.is_available() else \"cpu\")\n",
        "model.to(device)\n",
        "print(summary(model, (4, 224, 224)))"
      ]
    },
    {
      "cell_type": "code",
      "execution_count": 98,
      "metadata": {
        "colab": {
          "base_uri": "https://localhost:8080/",
          "height": 1000
        },
        "id": "3yUlemFl1XpQ",
        "outputId": "63b6af5b-eeaa-4c08-966b-0fcff44c1beb"
      },
      "outputs": [
        {
          "name": "stdout",
          "output_type": "stream",
          "text": [
            "Epoch 1, Train Loss: 0.1152, Validation Loss: 0.0819\n",
            "Epoch 2, Train Loss: 0.0742, Validation Loss: 0.0667\n",
            "Epoch 3, Train Loss: 0.0625, Validation Loss: 0.0583\n",
            "Epoch 4, Train Loss: 0.0516, Validation Loss: 0.0452\n",
            "Epoch 5, Train Loss: 0.0389, Validation Loss: 0.0350\n",
            "Epoch 6, Train Loss: 0.0325, Validation Loss: 0.0297\n",
            "Epoch 7, Train Loss: 0.0275, Validation Loss: 0.0273\n",
            "Epoch 8, Train Loss: 0.0250, Validation Loss: 0.0247\n",
            "Epoch 9, Train Loss: 0.0233, Validation Loss: 0.0238\n",
            "Epoch 10, Train Loss: 0.0225, Validation Loss: 0.0238\n",
            "Epoch 11, Train Loss: 0.0220, Validation Loss: 0.0228\n",
            "Epoch 12, Train Loss: 0.0209, Validation Loss: 0.0218\n",
            "Epoch 13, Train Loss: 0.0198, Validation Loss: 0.0215\n",
            "Epoch 14, Train Loss: 0.0197, Validation Loss: 0.0219\n",
            "Epoch 15, Train Loss: 0.0196, Validation Loss: 0.0209\n",
            "Epoch 16, Train Loss: 0.0184, Validation Loss: 0.0205\n",
            "Epoch 17, Train Loss: 0.0182, Validation Loss: 0.0207\n",
            "Epoch 18, Train Loss: 0.0177, Validation Loss: 0.0199\n",
            "Epoch 19, Train Loss: 0.0172, Validation Loss: 0.0197\n",
            "Epoch 20, Train Loss: 0.0173, Validation Loss: 0.0197\n",
            "Epoch 21, Train Loss: 0.0170, Validation Loss: 0.0196\n",
            "Epoch 22, Train Loss: 0.0167, Validation Loss: 0.0195\n",
            "Epoch 23, Train Loss: 0.0162, Validation Loss: 0.0193\n",
            "Epoch 24, Train Loss: 0.0160, Validation Loss: 0.0194\n",
            "Epoch 25, Train Loss: 0.0157, Validation Loss: 0.0188\n",
            "Epoch 26, Train Loss: 0.0154, Validation Loss: 0.0189\n",
            "Epoch 27, Train Loss: 0.0152, Validation Loss: 0.0187\n",
            "Epoch 28, Train Loss: 0.0152, Validation Loss: 0.0188\n",
            "Epoch 29, Train Loss: 0.0154, Validation Loss: 0.0189\n",
            "Epoch 30, Train Loss: 0.0151, Validation Loss: 0.0186\n",
            "Epoch 31, Train Loss: 0.0146, Validation Loss: 0.0182\n",
            "Epoch 32, Train Loss: 0.0144, Validation Loss: 0.0182\n",
            "Epoch 33, Train Loss: 0.0143, Validation Loss: 0.0182\n",
            "Epoch 34, Train Loss: 0.0144, Validation Loss: 0.0192\n",
            "Epoch 35, Train Loss: 0.0147, Validation Loss: 0.0183\n",
            "Epoch 36, Train Loss: 0.0142, Validation Loss: 0.0182\n",
            "Epoch 37, Train Loss: 0.0139, Validation Loss: 0.0184\n",
            "Epoch 38, Train Loss: 0.0137, Validation Loss: 0.0180\n",
            "Epoch 39, Train Loss: 0.0139, Validation Loss: 0.0197\n",
            "Epoch 40, Train Loss: 0.0140, Validation Loss: 0.0181\n",
            "Epoch 41, Train Loss: 0.0137, Validation Loss: 0.0181\n",
            "Epoch 42, Train Loss: 0.0134, Validation Loss: 0.0182\n",
            "Epoch 43, Train Loss: 0.0138, Validation Loss: 0.0184\n",
            "Epoch 44, Train Loss: 0.0135, Validation Loss: 0.0182\n",
            "Epoch 45, Train Loss: 0.0134, Validation Loss: 0.0180\n",
            "Epoch 46, Train Loss: 0.0132, Validation Loss: 0.0180\n",
            "Epoch 47, Train Loss: 0.0129, Validation Loss: 0.0183\n",
            "Epoch 48, Train Loss: 0.0128, Validation Loss: 0.0180\n",
            "Epoch 49, Train Loss: 0.0127, Validation Loss: 0.0179\n",
            "Epoch 50, Train Loss: 0.0129, Validation Loss: 0.0182\n",
            "Epoch 51, Train Loss: 0.0128, Validation Loss: 0.0180\n",
            "Epoch 52, Train Loss: 0.0132, Validation Loss: 0.0187\n",
            "Epoch 53, Train Loss: 0.0135, Validation Loss: 0.0180\n",
            "Epoch 54, Train Loss: 0.0130, Validation Loss: 0.0180\n",
            "Epoch 55, Train Loss: 0.0127, Validation Loss: 0.0178\n",
            "Epoch 56, Train Loss: 0.0125, Validation Loss: 0.0179\n",
            "Epoch 57, Train Loss: 0.0123, Validation Loss: 0.0181\n",
            "Epoch 58, Train Loss: 0.0121, Validation Loss: 0.0177\n",
            "Epoch 59, Train Loss: 0.0121, Validation Loss: 0.0178\n",
            "Epoch 60, Train Loss: 0.0120, Validation Loss: 0.0177\n",
            "Epoch 61, Train Loss: 0.0119, Validation Loss: 0.0177\n",
            "Epoch 62, Train Loss: 0.0118, Validation Loss: 0.0179\n",
            "Epoch 63, Train Loss: 0.0118, Validation Loss: 0.0177\n",
            "Epoch 64, Train Loss: 0.0118, Validation Loss: 0.0177\n",
            "Epoch 65, Train Loss: 0.0117, Validation Loss: 0.0177\n",
            "Epoch 66, Train Loss: 0.0117, Validation Loss: 0.0177\n",
            "Epoch 67, Train Loss: 0.0118, Validation Loss: 0.0179\n",
            "Epoch 68, Train Loss: 0.0119, Validation Loss: 0.0179\n",
            "Epoch 69, Train Loss: 0.0115, Validation Loss: 0.0176\n",
            "Epoch 70, Train Loss: 0.0114, Validation Loss: 0.0176\n",
            "Epoch 71, Train Loss: 0.0115, Validation Loss: 0.0178\n",
            "Epoch 72, Train Loss: 0.0113, Validation Loss: 0.0176\n",
            "Epoch 73, Train Loss: 0.0113, Validation Loss: 0.0176\n",
            "Epoch 74, Train Loss: 0.0113, Validation Loss: 0.0178\n",
            "Epoch 75, Train Loss: 0.0114, Validation Loss: 0.0177\n",
            "Epoch 76, Train Loss: 0.0111, Validation Loss: 0.0179\n",
            "Epoch 77, Train Loss: 0.0111, Validation Loss: 0.0179\n",
            "Epoch 78, Train Loss: 0.0114, Validation Loss: 0.0179\n",
            "Epoch 79, Train Loss: 0.0113, Validation Loss: 0.0177\n",
            "Epoch 80, Train Loss: 0.0111, Validation Loss: 0.0185\n",
            "Epoch 81, Train Loss: 0.0120, Validation Loss: 0.0193\n",
            "Epoch 82, Train Loss: 0.0120, Validation Loss: 0.0182\n",
            "Epoch 83, Train Loss: 0.0114, Validation Loss: 0.0177\n",
            "Epoch 84, Train Loss: 0.0110, Validation Loss: 0.0175\n",
            "Epoch 85, Train Loss: 0.0108, Validation Loss: 0.0175\n",
            "Epoch 86, Train Loss: 0.0107, Validation Loss: 0.0176\n",
            "Epoch 87, Train Loss: 0.0107, Validation Loss: 0.0175\n",
            "Epoch 88, Train Loss: 0.0106, Validation Loss: 0.0175\n",
            "Epoch 89, Train Loss: 0.0107, Validation Loss: 0.0176\n",
            "Epoch 90, Train Loss: 0.0105, Validation Loss: 0.0175\n",
            "Epoch 91, Train Loss: 0.0106, Validation Loss: 0.0180\n",
            "Epoch 92, Train Loss: 0.0111, Validation Loss: 0.0180\n",
            "Epoch 93, Train Loss: 0.0108, Validation Loss: 0.0176\n",
            "Epoch 94, Train Loss: 0.0106, Validation Loss: 0.0180\n",
            "Epoch 95, Train Loss: 0.0107, Validation Loss: 0.0177\n",
            "Epoch 96, Train Loss: 0.0106, Validation Loss: 0.0181\n",
            "Epoch 97, Train Loss: 0.0107, Validation Loss: 0.0177\n",
            "Epoch 98, Train Loss: 0.0105, Validation Loss: 0.0176\n",
            "Epoch 99, Train Loss: 0.0104, Validation Loss: 0.0178\n",
            "Epoch 100, Train Loss: 0.0105, Validation Loss: 0.0179\n"
          ]
        },
        {
          "data": {
            "image/png": "[encoded data removed]",
            "text/plain": [
              "<Figure size 1000x500 with 1 Axes>"
            ]
          },
          "metadata": {},
          "output_type": "display_data"
        }
      ],
      "source": [
        "import torch\n",
        "import torch.nn as nn\n",
        "import torch.optim as optim\n",
        "\n",
        "\n",
        "\n",
        "train_losses = []\n",
        "val_losses = []\n",
        "\n",
        "criterion = nn.MSELoss()\n",
        "\n",
        "optimizer = optim.Adam(model.parameters(), lr=0.001)\n",
        "\n",
        "num_epochs = 100\n",
        "\n",
        "for epoch in range(num_epochs):\n",
        "    model.train()\n",
        "    train_loss = 0.0\n",
        "    for data in train_loader:\n",
        "        images, _ = data\n",
        "        images = images.to(device)\n",
        "\n",
        "        # Zero the parameter gradients\n",
        "        optimizer.zero_grad()\n",
        "\n",
        "        # Forward pass\n",
        "        outputs = model(images)\n",
        "\n",
        "        # Calculate the loss\n",
        "        loss = criterion(outputs, images)\n",
        "\n",
        "        loss.backward()\n",
        "        optimizer.step()\n",
        "\n",
        "        train_loss += loss.item() * images.size(0)\n",
        "\n",
        "    # Calculate average loss over an epoch\n",
        "    train_loss = train_loss / len(train_loader.dataset)\n",
        "    train_losses.append(train_loss)\n",
        "\n",
        "    model.eval()\n",
        "    val_loss = 0.0\n",
        "    with torch.no_grad():\n",
        "        for data in val_loader:\n",
        "            images, _ = data\n",
        "            images = images.to(device)\n",
        "\n",
        "            outputs = model(images)\n",
        "            loss = criterion(outputs, images)\n",
        "            val_loss += loss.item() * images.size(0)\n",
        "\n",
        "    val_loss = val_loss / len(val_loader.dataset)\n",
        "    val_losses.append(val_loss)\n",
        "\n",
        "    print(f\"Epoch {epoch+1}, Train Loss: {train_loss:.4f}, Validation Loss: {val_loss:.4f}\")\n",
        "\n",
        "plt.figure(figsize=(10, 5))\n",
        "plt.plot(train_losses, label='Training Loss')\n",
        "plt.plot(val_losses, label='Validation Loss')\n",
        "plt.title('Training and Validation Loss')\n",
        "plt.xlabel('Epochs')\n",
        "plt.ylabel('Loss')\n",
        "plt.legend()\n",
        "plt.show()\n",
        "\n",
        "# Save the trained model\n",
        "torch.save(model.state_dict(), 'autoencoder_model.pth')"
      ]
    },
    {
      "cell_type": "markdown",
      "metadata": {
        "id": "rSGxlJQYVp8K"
      },
      "source": [
        "Now test on testing dataset"
      ]
    },
    {
      "cell_type": "code",
      "execution_count": 99,
      "metadata": {
        "colab": {
          "base_uri": "https://localhost:8080/"
        },
        "id": "Y9LPzx8DVvCp",
        "outputId": "5bac69d6-79f7-4ca0-8fa9-b37c818668ea"
      },
      "outputs": [
        {
          "name": "stdout",
          "output_type": "stream",
          "text": [
            "Average Test Loss: 0.0175\n"
          ]
        }
      ],
      "source": [
        "model.eval()\n",
        "test_loss = 0.0\n",
        "with torch.no_grad():\n",
        "    for data in test_loader:\n",
        "        images, _ = data\n",
        "        images = images.to(device)\n",
        "\n",
        "        outputs = model(images)\n",
        "        loss = criterion(outputs, images)\n",
        "        test_loss += loss.item() * images.size(0)\n",
        "\n",
        "test_loss = test_loss / len(test_loader.dataset)\n",
        "\n",
        "print(f\"Average Test Loss: {test_loss:.4f}\")"
      ]
    },
    {
      "cell_type": "markdown",
      "metadata": {
        "id": "mm1XDH3YdsR2"
      },
      "source": [
        "# Problem 2"
      ]
    },
    {
      "cell_type": "markdown",
      "metadata": {
        "id": "fDNV3FN09DZw"
      },
      "source": [
        "We set batch size to 20, since 20 can be divided by both training size (600) and validation size (200)"
      ]
    },
    {
      "cell_type": "code",
      "execution_count": 69,
      "metadata": {
        "id": "OxZto7HEvXjz"
      },
      "outputs": [],
      "source": [
        "import torch\n",
        "from torch.utils.data import Dataset, DataLoader\n",
        "from torchvision import transforms\n",
        "from PIL import Image\n",
        "\n",
        "key_word = {'bear', 'cat', 'clock', 'clown', 'cow', 'horse', 'lion', 'panda', 'pig', 'robot', 'horn', 'unicorn', 'wind', 'wolf', 'zebra', 'moon', 'mouse', 'rabbit', 'dog', 'dragon', 'fox', 'frog', 'hamster', 'monkey', 'sun', 'tiger'}\n",
        "\n",
        "\n",
        "class CustomDataset(Dataset):\n",
        "    def __init__(self, data_list, transform=None):\n",
        "        self.data_list = data_list\n",
        "        self.transform = transform\n",
        "\n",
        "    def __len__(self):\n",
        "        return len(self.data_list)\n",
        "\n",
        "    def __getitem__(self, idx):\n",
        "        item = self.data_list[idx]\n",
        "        image = Image.open(item['image'])\n",
        "        # Check if any word in item['text'] is in key_word\n",
        "        label = 1 if any(word in key_word for word in item['text'].split()) else 0\n",
        "        if self.transform:\n",
        "            image = self.transform(image)\n",
        "        return image, label\n",
        "\n",
        "train_transform = transforms.Compose([\n",
        "    transforms.Resize((64, 64)),\n",
        "    transforms.ToTensor(),\n",
        "])\n",
        "\n",
        "train_dataset = CustomDataset(train_data, transform=train_transform)\n",
        "val_dataset = CustomDataset(validation_data, transform=train_transform)\n",
        "test_dataset = CustomDataset(test_data, transform=train_transform)\n",
        "\n",
        "train_loader = DataLoader(train_dataset, batch_size=20, shuffle=True)\n",
        "val_loader = DataLoader(val_dataset, batch_size=20, shuffle=False)\n",
        "test_loader = DataLoader(test_dataset, batch_size=20, shuffle=False)\n"
      ]
    },
    {
      "cell_type": "code",
      "execution_count": null,
      "metadata": {
        "colab": {
          "base_uri": "https://localhost:8080/"
        },
        "id": "EPbjKCrjwxgx",
        "outputId": "a40bc956-4827-4390-ea2c-cd8b4a54321f"
      },
      "outputs": [],
      "source": [
        "for images, labels in train_loader:\n",
        "    print(images) \n",
        "    print(labels) \n",
        "    break \n",
        "print(len(train_loader))\n",
        "print(len(images), len(images[0]), len(images[0][0]))"
      ]
    },
    {
      "cell_type": "code",
      "execution_count": 76,
      "metadata": {
        "id": "jQD-PVz3Y32i"
      },
      "outputs": [],
      "source": [
        "class ClassifierCNN(nn.Module):\n",
        "    def __init__(self, num_classes):\n",
        "        super(ClassifierCNN, self).__init__()\n",
        "        # Encoder (used as feature extractor)\n",
        "        self.encoder = nn.Sequential(\n",
        "            nn.Conv2d(4, 32, kernel_size=5, stride=1, padding=2),\n",
        "            nn.ReLU(),\n",
        "            nn.MaxPool2d(kernel_size=2, stride=2),\n",
        "            nn.Conv2d(32, 64, kernel_size=5, stride=1, padding=2),\n",
        "            nn.ReLU(),\n",
        "            nn.MaxPool2d(kernel_size=2, stride=2),\n",
        "            nn.Conv2d(64, 128, kernel_size=5, stride=1, padding=2),\n",
        "            nn.ReLU(),\n",
        "            nn.MaxPool2d(kernel_size=2, stride=2),\n",
        "            nn.Conv2d(128, 256, kernel_size=5, stride=1, padding=2),\n",
        "            nn.ReLU(),\n",
        "            nn.MaxPool2d(kernel_size=2, stride=2),\n",
        "        )\n",
        "\n",
        "        # decode\n",
        "        self.decoder = nn.Sequential(\n",
        "            nn.ConvTranspose2d(256, 128, kernel_size=5, stride=1, padding=2),\n",
        "            nn.ReLU(),\n",
        "            nn.Upsample(scale_factor=2, mode='nearest'),\n",
        "            nn.ConvTranspose2d(128, 64, kernel_size=5, stride=1, padding=2),\n",
        "            nn.ReLU(),\n",
        "            nn.Upsample(scale_factor=2, mode='nearest'),\n",
        "            nn.ConvTranspose2d(64, 32, kernel_size=5, stride=1, padding=2),\n",
        "            nn.ReLU(),\n",
        "            nn.Upsample(scale_factor=2, mode='nearest'),\n",
        "            nn.ConvTranspose2d(32, 4, kernel_size=5, stride=1, padding=2),\n",
        "            nn.Upsample(scale_factor=2, mode='nearest'),\n",
        "            nn.Sigmoid(),\n",
        "        )\n",
        "\n",
        "        self.flatten = nn.Flatten()\n",
        "        self.fc = nn.Linear(256 * 4 * 4, num_classes)  # Adjust the size according to your input image size\n",
        "\n",
        "    def forward(self, x):\n",
        "        x = self.encoder(x)\n",
        "        y = self.decoder(x)\n",
        "        x = self.flatten(x)\n",
        "        x = self.fc(x)\n",
        "        return x, y"
      ]
    },
    {
      "cell_type": "code",
      "execution_count": 79,
      "metadata": {
        "colab": {
          "base_uri": "https://localhost:8080/",
          "height": 1000
        },
        "id": "aaVHoxT4h9qw",
        "outputId": "7067ca0b-8d44-46a6-9761-e5745a4036e2"
      },
      "outputs": [
        {
          "name": "stdout",
          "output_type": "stream",
          "text": [
            "Epoch 1, Train Loss: 0.3724, Validation Loss: 0.2574\n",
            "Epoch 2, Train Loss: 0.2797, Validation Loss: 0.2332\n",
            "Epoch 3, Train Loss: 0.1949, Validation Loss: 0.2584\n",
            "Epoch 4, Train Loss: 0.1548, Validation Loss: 0.2311\n",
            "Epoch 5, Train Loss: 0.1158, Validation Loss: 0.1861\n",
            "Epoch 6, Train Loss: 0.0887, Validation Loss: 0.1635\n",
            "Epoch 7, Train Loss: 0.0749, Validation Loss: 0.2226\n",
            "Epoch 8, Train Loss: 0.0830, Validation Loss: 0.2481\n",
            "Epoch 9, Train Loss: 0.0750, Validation Loss: 0.2310\n",
            "Epoch 10, Train Loss: 0.0561, Validation Loss: 0.3167\n",
            "Epoch 11, Train Loss: 0.0417, Validation Loss: 0.2610\n",
            "Epoch 12, Train Loss: 0.0538, Validation Loss: 0.2086\n",
            "Epoch 13, Train Loss: 0.0376, Validation Loss: 0.3317\n",
            "Epoch 14, Train Loss: 0.0327, Validation Loss: 0.1497\n",
            "Epoch 15, Train Loss: 0.0280, Validation Loss: 0.3628\n",
            "Epoch 16, Train Loss: 0.0233, Validation Loss: 0.2727\n",
            "Epoch 17, Train Loss: 0.0204, Validation Loss: 0.2577\n",
            "Epoch 18, Train Loss: 0.0192, Validation Loss: 0.2561\n",
            "Epoch 19, Train Loss: 0.0183, Validation Loss: 0.2651\n",
            "Epoch 20, Train Loss: 0.0177, Validation Loss: 0.2761\n",
            "Epoch 21, Train Loss: 0.0173, Validation Loss: 0.2716\n",
            "Epoch 22, Train Loss: 0.0167, Validation Loss: 0.2837\n",
            "Epoch 23, Train Loss: 0.0164, Validation Loss: 0.2844\n",
            "Epoch 24, Train Loss: 0.0161, Validation Loss: 0.2899\n",
            "Epoch 25, Train Loss: 0.0157, Validation Loss: 0.2946\n",
            "Epoch 26, Train Loss: 0.0154, Validation Loss: 0.2953\n",
            "Epoch 27, Train Loss: 0.0152, Validation Loss: 0.2993\n",
            "Epoch 28, Train Loss: 0.0150, Validation Loss: 0.3071\n",
            "Epoch 29, Train Loss: 0.0148, Validation Loss: 0.3046\n",
            "Epoch 30, Train Loss: 0.0145, Validation Loss: 0.3084\n"
          ]
        },
        {
          "data": {
            "image/png": "[encoded data removed]",
            "text/plain": [
              "<Figure size 1000x500 with 1 Axes>"
            ]
          },
          "metadata": {},
          "output_type": "display_data"
        }
      ],
      "source": [
        "train_losses = []\n",
        "val_losses = []\n",
        "\n",
        "num_classes = 2\n",
        "model = ClassifierCNN(num_classes=num_classes)\n",
        "\n",
        "device = torch.device(\"cuda\" if torch.cuda.is_available() else \"cpu\")\n",
        "model.to(device)\n",
        "\n",
        "reconstruction_criterion = nn.MSELoss()\n",
        "classification_criterion = nn.CrossEntropyLoss()\n",
        "\n",
        "lambda_value = 0.5\n",
        "\n",
        "optimizer = optim.Adam(model.parameters(), lr=0.001)\n",
        "\n",
        "num_epochs = 30\n",
        "\n",
        "for epoch in range(num_epochs):\n",
        "    model.train()\n",
        "    train_loss = 0.0\n",
        "    for data in train_loader:\n",
        "        images, labels = data\n",
        "        images, labels = images.to(device), labels.to(device)\n",
        "\n",
        "        # Zero the parameter gradients\n",
        "        optimizer.zero_grad()\n",
        "\n",
        "        # Forward pass\n",
        "        class_scores, recon = model(images)\n",
        "\n",
        "        recon_loss = reconstruction_criterion(recon, images)\n",
        "        class_loss = classification_criterion(class_scores, labels)\n",
        "\n",
        "        total_loss = recon_loss + lambda_value * class_loss\n",
        "\n",
        "        total_loss.backward()\n",
        "        optimizer.step()\n",
        "\n",
        "        train_loss += total_loss.item() * images.size(0)\n",
        "\n",
        "    # Calculate average loss over an epoch\n",
        "    train_loss = train_loss / len(train_loader.dataset)\n",
        "    train_losses.append(train_loss)\n",
        "\n",
        "    model.eval()\n",
        "    val_loss = 0.0\n",
        "    with torch.no_grad():\n",
        "        for data in val_loader:\n",
        "            images, labels = data\n",
        "            images, labels = images.to(device), labels.to(device)\n",
        "\n",
        "            class_scores, recon = model(images)\n",
        "\n",
        "            recon_loss = reconstruction_criterion(recon, images)\n",
        "            class_loss = classification_criterion(class_scores, labels)\n",
        "\n",
        "            total_loss = recon_loss + lambda_value * class_loss\n",
        "\n",
        "            val_loss += total_loss.item() * images.size(0)\n",
        "\n",
        "    val_loss = val_loss / len(val_loader.dataset)\n",
        "    val_losses.append(val_loss)\n",
        "\n",
        "    print(f\"Epoch {epoch+1}, Train Loss: {train_loss:.4f}, Validation Loss: {val_loss:.4f}\")\n",
        "\n",
        "plt.figure(figsize=(10, 5))\n",
        "plt.plot(train_losses, label='Training Loss')\n",
        "plt.plot(val_losses, label='Validation Loss')\n",
        "plt.title('Training and Validation Loss')\n",
        "plt.xlabel('Epochs')\n",
        "plt.ylabel('Loss')\n",
        "plt.legend()\n",
        "plt.show()\n",
        "\n",
        "# Save the trained model\n",
        "torch.save(model.state_dict(), 'classification_model.pth')"
      ]
    },
    {
      "cell_type": "code",
      "execution_count": 80,
      "metadata": {
        "colab": {
          "base_uri": "https://localhost:8080/"
        },
        "id": "9w4I7ysTxxq8",
        "outputId": "7de97647-5190-4a3c-bc16-5ef477296150"
      },
      "outputs": [
        {
          "name": "stdout",
          "output_type": "stream",
          "text": [
            "Average Test Loss: 3.9382\n"
          ]
        }
      ],
      "source": [
        "model.eval()\n",
        "test_loss = 0.0\n",
        "with torch.no_grad():\n",
        "    for data in test_loader:\n",
        "        images, labels = data\n",
        "        images, labels = images.to(device), labels.to(device)\n",
        "\n",
        "        class_scores, recon = model(images)\n",
        "        recon_loss = reconstruction_criterion(recon, images)\n",
        "        class_loss = classification_criterion(class_scores, labels)\n",
        "\n",
        "        total_loss = recon_loss + lambda_value * class_loss\n",
        "\n",
        "        test_loss += total_loss.item() * images.size(0)\n",
        "\n",
        "test_loss = test_loss / len(test_loader.dataset)\n",
        "\n",
        "print(f\"Average Test Loss: {test_loss:.4f}\")"
      ]
    },
    {
      "cell_type": "markdown",
      "metadata": {
        "id": "LlL9V0WmAVVY"
      },
      "source": [
        "# Problem 3"
      ]
    },
    {
      "cell_type": "markdown",
      "metadata": {
        "id": "ZNY9_bXaETRp"
      },
      "source": [
        "pass specific image to Dataloader"
      ]
    },
    {
      "cell_type": "code",
      "execution_count": 105,
      "metadata": {
        "colab": {
          "base_uri": "https://localhost:8080/",
          "height": 209
        },
        "id": "BdxhZyESESr0",
        "outputId": "3bca6d3c-e13f-49ea-9c42-b4cefa3e7a6e"
      },
      "outputs": [
        {
          "data": {
            "image/png": "[encoded data removed]",
            "text/plain": [
              "<PIL.PngImagePlugin.PngImageFile image mode=RGBA size=64x64>"
            ]
          },
          "metadata": {},
          "output_type": "display_data"
        },
        {
          "data": {
            "image/png": "[encoded data removed]",
            "text/plain": [
              "<PIL.PngImagePlugin.PngImageFile image mode=RGBA size=64x64>"
            ]
          },
          "metadata": {},
          "output_type": "display_data"
        },
        {
          "data": {
            "image/png": "[encoded data removed]",
            "text/plain": [
              "<PIL.PngImagePlugin.PngImageFile image mode=RGBA size=64x64>"
            ]
          },
          "metadata": {},
          "output_type": "display_data"
        }
      ],
      "source": [
        "transform = transforms.Compose([\n",
        "    transforms.Resize((64, 64)),\n",
        "    transforms.ToTensor(),\n",
        "])\n",
        "\n",
        "image_path_1 = '/content/train/crying cat face.png'\n",
        "image_1 = Image.open(image_path_1)\n",
        "display(image_1)\n",
        "\n",
        "image_path_2 = '/content/train/crying face.png'\n",
        "image_2 = Image.open(image_path_2)\n",
        "display(image_2)\n",
        "\n",
        "image_path_3 = '/content/train/face with tears of joy.png'\n",
        "image_3 = Image.open(image_path_3)\n",
        "display(image_3)\n",
        "\n",
        "image_1 = transform(image_1)\n",
        "image_2 = transform(image_2)\n",
        "image_3 = transform(image_3)\n",
        "\n",
        "\n",
        "\n",
        "# Add a batch dimension by using `unsqueeze`\n",
        "image_1 = image_1.unsqueeze(0).to(device)\n",
        "image_2 = image_2.unsqueeze(0).to(device)\n",
        "image_3 = image_3.unsqueeze(0).to(device)\n",
        "\n"
      ]
    },
    {
      "cell_type": "markdown",
      "metadata": {
        "id": "_K1Z34wRCuxp"
      },
      "source": [
        "Since we already trained autoencoder, we will load the model path"
      ]
    },
    {
      "cell_type": "code",
      "execution_count": 113,
      "metadata": {
        "colab": {
          "base_uri": "https://localhost:8080/",
          "height": 81
        },
        "id": "2O9hmAd2xxo5",
        "outputId": "ac255778-f22e-4448-c88c-eb3abb34ab2e"
      },
      "outputs": [
        {
          "data": {
            "image/png": "[encoded data removed]",
            "text/plain": [
              "<PIL.Image.Image image mode=RGBA size=64x64>"
            ]
          },
          "metadata": {},
          "output_type": "display_data"
        }
      ],
      "source": [
        "import numpy as np\n",
        "\n",
        "model = AutoEncoderCNN().to(device)\n",
        "\n",
        "model.load_state_dict(torch.load('/content/autoencoder_model.pth'))\n",
        "model.eval()\n",
        "\n",
        "with torch.no_grad():\n",
        "    image_1_encode = model.encoder(image_1.to(device))\n",
        "    image_2_encode = model.encoder(image_2.to(device))\n",
        "    image_3_encode = model.encoder(image_3.to(device))\n",
        "\n",
        "    modified_vector = image_1_encode - image_2_encode + image_3_encode\n",
        "\n",
        "    # print(image_1_encode)\n",
        "    # print(image_2_encode)\n",
        "    # print(image_3_encode)\n",
        "\n",
        "    # print(image_1_encode - image_2_encode)\n",
        "    # print(modified_vector)\n",
        "\n",
        "    decoded_image = model.decoder(modified_vector)\n",
        "\n",
        "generated_image = decoded_image.squeeze(0)  # Remove batch dimension if necessary\n",
        "generated_image = generated_image.permute(1, 2, 0)  # Rearrange dimensions to [H, W, C]\n",
        "generated_image = generated_image.cpu().numpy()  \n",
        "generated_image = (generated_image * 255).astype(np.uint8)  # Assuming the original normalization was to [0,1]\n",
        "generated_image_pil = Image.fromarray(generated_image)\n",
        "display(generated_image_pil)\n",
        "\n"
      ]
    }
  ],
  "metadata": {
    "accelerator": "GPU",
    "colab": {
      "gpuType": "T4",
      "provenance": []
    },
    "kernelspec": {
      "display_name": "Python 3",
      "name": "python3"
    },
    "language_info": {
      "name": "python"
    }
  },
  "nbformat": 4,
  "nbformat_minor": 0
}
