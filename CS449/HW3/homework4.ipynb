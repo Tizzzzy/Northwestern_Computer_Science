{
  "cells": [
    {
      "cell_type": "markdown",
      "id": "e0c1ab8d-0573-4ebc-8e41-1ea11ca0f8ab",
      "metadata": {
        "id": "e0c1ab8d-0573-4ebc-8e41-1ea11ca0f8ab"
      },
      "source": [
        "# COMP449 HW4"
      ]
    },
    {
      "cell_type": "markdown",
      "id": "d146ac73-dd94-44e3-8b70-9ca6f6d48a98",
      "metadata": {
        "id": "d146ac73-dd94-44e3-8b70-9ca6f6d48a98"
      },
      "source": [
        "## Text Preprocessing: convert raw texts into vector representation"
      ]
    },
    {
      "cell_type": "code",
      "execution_count": 2,
      "id": "78eb399a-f4ed-400a-ad79-76a94a62f7a7",
      "metadata": {
        "id": "78eb399a-f4ed-400a-ad79-76a94a62f7a7",
        "tags": []
      },
      "outputs": [],
      "source": [
        "import torch\n",
        "from torch.utils.data import Dataset, DataLoader\n",
        "from torch import nn, optim\n",
        "from collections import Counter\n",
        "import numpy as np"
      ]
    },
    {
      "cell_type": "code",
      "execution_count": 3,
      "id": "T6hLnApfolrA",
      "metadata": {
        "id": "T6hLnApfolrA"
      },
      "outputs": [],
      "source": [
        "def read_corpus(files):\n",
        "    \"\"\"\n",
        "    Read and merge contents from a list of files.\n",
        "    \"\"\"\n",
        "    corpus = \"\"\n",
        "    for file in files:\n",
        "        with open(file, \"r\", encoding=\"utf-8\") as f:\n",
        "            corpus += f.read().lower() + \" \"  \n",
        "    return corpus"
      ]
    },
    {
      "cell_type": "code",
      "execution_count": 58,
      "id": "w1avAn5Vonr5",
      "metadata": {
        "id": "w1avAn5Vonr5"
      },
      "outputs": [],
      "source": [
        "def create_vocabulary(corpus, vocab_size):\n",
        "    \"\"\"\n",
        "    Create vocabulary mapping from a corpus.\n",
        "    \"\"\"\n",
        "    tokens = corpus.split()\n",
        "    token_freqs = {}\n",
        "    for token in tokens:\n",
        "        token_freqs[token] = token_freqs.get(token, 0) + 1\n",
        "\n",
        "    sorted_tokens = sorted(token_freqs.items(), key=lambda x: x[1], reverse=True)\n",
        "    vocab = {\"<unk>\": 0}\n",
        "    for i, (token, _) in enumerate(sorted_tokens):\n",
        "        if i >= vocab_size - 1:  \n",
        "            break\n",
        "        vocab[token] = len(vocab)\n",
        "    return vocab"
      ]
    },
    {
      "cell_type": "code",
      "execution_count": 5,
      "id": "1IjFJURZoqCa",
      "metadata": {
        "id": "1IjFJURZoqCa"
      },
      "outputs": [],
      "source": [
        "def corpus_to_int(corpus, vocab):\n",
        "    \"\"\"\n",
        "    Convert a corpus to its integer representation using a vocabulary mapping.\n",
        "    \"\"\"\n",
        "    tokens = corpus.split()\n",
        "    return [vocab.get(token, 0) for token in tokens]  \n"
      ]
    },
    {
      "cell_type": "code",
      "execution_count": 6,
      "id": "SlrJLAFQoyXP",
      "metadata": {
        "id": "SlrJLAFQoyXP"
      },
      "outputs": [],
      "source": [
        "files = [\"wiki2.train.txt\", \"wiki2.valid.txt\", \"wiki2.test.txt\"]\n",
        "corpus = read_corpus(files)"
      ]
    },
    {
      "cell_type": "code",
      "execution_count": 59,
      "id": "3lE3imRyo0Nd",
      "metadata": {
        "id": "3lE3imRyo0Nd"
      },
      "outputs": [],
      "source": [
        "vocab_size = 10000\n",
        "vocab = create_vocabulary(corpus, vocab_size)"
      ]
    },
    {
      "cell_type": "code",
      "execution_count": 60,
      "id": "qdXKIDI9o2Mh",
      "metadata": {
        "id": "qdXKIDI9o2Mh"
      },
      "outputs": [],
      "source": [
        "train_corpus = read_corpus([\"wiki2.train.txt\"])\n",
        "train_int = corpus_to_int(train_corpus, vocab)\n",
        "\n",
        "val_corpus = read_corpus([\"wiki2.valid.txt\"])\n",
        "val_int = corpus_to_int(val_corpus, vocab)\n",
        "\n",
        "test_corpus = read_corpus([\"wiki2.test.txt\"])\n",
        "test_int = corpus_to_int(test_corpus, vocab)"
      ]
    },
    {
      "cell_type": "code",
      "execution_count": 2,
      "id": "0b0b2ff0-1207-4eff-9cbd-750151114215",
      "metadata": {
        "id": "0b0b2ff0-1207-4eff-9cbd-750151114215",
        "tags": []
      },
      "outputs": [],
      "source": [
        "def text_preprocess(text, vocab_size=10000, unktoken=\"<unk>\"):\n",
        "    \"\"\"\n",
        "    text: input text\n",
        "    vocab_size: number of vocabulary size that we want to shrink\n",
        "    unktoken: unknown token, default to \"<unk>\"\n",
        "\n",
        "    This function takes in original input text \"text\" and transform the raw text into integer embeddings.\n",
        "    ids = an integer id, from most frequent to least frequent, representation of the word\n",
        "    token_to_id, id_to_token are two dictionaries storing the corresponding token-id, id-token representations\n",
        "    \"\"\"\n",
        "    tokens = text.split()\n",
        "    counter = Counter(tokens)\n",
        "    vocab = sorted(counter, key=counter.get, reverse=True)[:vocab_size]\n",
        "    vocab.append(unktoken)\n",
        "    token_to_id = {word: i for i, word in enumerate(vocab)}\n",
        "    id_to_token = {i: word for word, i in token_to_id.items()}\n",
        "\n",
        "    # Replace rare tokens with <unk>\n",
        "    unk_index = token_to_id.get(\"<unk>\")  # Get the index for the unknown token\n",
        "    ids = [token_to_id.get(token, unk_index) for token in tokens]  \n",
        "    #ids = [token_to_id.get(token, token_to_id[unktoken]) for token in tokens]\n",
        "\n",
        "    return ids, token_to_id, id_to_token"
      ]
    },
    {
      "cell_type": "markdown",
      "id": "6f7d67ea-b244-4eaf-a7dc-7ea64e983d0b",
      "metadata": {
        "id": "6f7d67ea-b244-4eaf-a7dc-7ea64e983d0b"
      },
      "source": [
        "## Build torch dataset"
      ]
    },
    {
      "cell_type": "code",
      "execution_count": 9,
      "id": "e72528ba-0cab-439e-8898-2e40ea92ff2d",
      "metadata": {
        "id": "e72528ba-0cab-439e-8898-2e40ea92ff2d",
        "tags": []
      },
      "outputs": [],
      "source": [
        "from torch.utils.data import Dataset"
      ]
    },
    {
      "cell_type": "code",
      "execution_count": 10,
      "id": "04620052-3593-48f6-9701-2234a85825ed",
      "metadata": {
        "id": "04620052-3593-48f6-9701-2234a85825ed",
        "tags": []
      },
      "outputs": [],
      "source": [
        "class WikiDataset(Dataset):\n",
        "    def __init__(self, ids, sequence_length):\n",
        "        \"\"\"\n",
        "        sequence_length = number of unrolled time steps\n",
        "        \"\"\"\n",
        "        self.ids = ids\n",
        "        self.sequence_length = sequence_length\n",
        "\n",
        "    def __len__(self):\n",
        "      \n",
        "        return len(self.ids) // self.sequence_length\n",
        "\n",
        "    def __getitem__(self, idx):\n",
        "        \"\"\"\n",
        "        Returns a tuple (input_sequence, target_sequence) where\n",
        "        target_sequence is the input_sequence shifted by one token to the right.\n",
        "        The reason we shift right by one token is because the objective of our task\n",
        "        is to predict the next token given a sequence of tokens. Right shift by one\n",
        "        aligns with the next token it should predict.\n",
        "        \"\"\"\n",
        "        start = idx * self.sequence_length\n",
        "        end = start + self.sequence_length\n",
        "        input_sequence = self.ids[start:end]\n",
        "        target_sequence = self.ids[start+1:end+1]\n",
        "        return torch.tensor(input_sequence, dtype=torch.long), torch.tensor(target_sequence, dtype=torch.long)"
      ]
    },
    {
      "cell_type": "code",
      "execution_count": 11,
      "id": "074e8598-b613-487d-8083-7ab469f6e167",
      "metadata": {
        "id": "074e8598-b613-487d-8083-7ab469f6e167",
        "tags": []
      },
      "outputs": [],
      "source": [
        "from torch.nn.utils.rnn import pad_sequence\n",
        "\n",
        "def pad_collate(batch):\n",
        "    (xx, yy) = zip(*batch)\n",
        "    x_pad = pad_sequence([torch.tensor(x) for x in xx], batch_first=True, padding_value=0)\n",
        "    y_pad = pad_sequence([torch.tensor(y) for y in yy], batch_first=True, padding_value=0)\n",
        "    return x_pad, y_pad\n"
      ]
    },
    {
      "cell_type": "code",
      "execution_count": 61,
      "id": "92e556d1-717f-4e6a-b700-3bc2c19fb41b",
      "metadata": {
        "id": "92e556d1-717f-4e6a-b700-3bc2c19fb41b",
        "tags": []
      },
      "outputs": [],
      "source": [
        "sequence_length = 20\n",
        "batch_size = 64  \n",
        "train_dataset = WikiDataset(train_int, sequence_length)\n",
        "val_dataset = WikiDataset(val_int, sequence_length)\n",
        "test_dataset = WikiDataset(test_int, sequence_length)\n",
        "\n",
        "train_loader = DataLoader(train_dataset, batch_size=batch_size, shuffle=True)\n",
        "val_loader = DataLoader(val_dataset, batch_size=batch_size, shuffle=False)\n",
        "test_loader = DataLoader(test_dataset, batch_size=batch_size, shuffle=False)"
      ]
    },
    {
      "cell_type": "markdown",
      "id": "04b9931f",
      "metadata": {},
      "source": [
        "## Pretrained Word Embedding"
      ]
    },
    {
      "cell_type": "code",
      "execution_count": 15,
      "id": "m_UXgJQczq7o",
      "metadata": {
        "colab": {
          "base_uri": "https://localhost:8080/"
        },
        "id": "m_UXgJQczq7o",
        "outputId": "0887aed2-f45d-4198-86d0-ba3d39823ab9"
      },
      "outputs": [
        {
          "name": "stderr",
          "output_type": "stream",
          "text": [
            "/Users/genius/Library/Python/3.9/lib/python/site-packages/urllib3/__init__.py:35: NotOpenSSLWarning: urllib3 v2 only supports OpenSSL 1.1.1+, currently the 'ssl' module is compiled with 'LibreSSL 2.8.3'. See: https://github.com/urllib3/urllib3/issues/3020\n",
            "  warnings.warn(\n",
            ".vector_cache/glove.6B.zip: 862MB [02:39, 5.39MB/s]                               \n",
            "100%|█████████▉| 399999/400000 [00:07<00:00, 53990.20it/s]\n"
          ]
        }
      ],
      "source": [
        "from torchtext.vocab import GloVe\n",
        "\n",
        "pretrained_embeddings = GloVe(name=\"6B\", dim=100)  \n"
      ]
    },
    {
      "cell_type": "code",
      "execution_count": 62,
      "id": "vsQsccHD5OyP",
      "metadata": {
        "colab": {
          "base_uri": "https://localhost:8080/"
        },
        "id": "vsQsccHD5OyP",
        "outputId": "47389872-db91-49c0-8c00-29d071b9cf42"
      },
      "outputs": [
        {
          "data": {
            "text/plain": [
              "<All keys matched successfully>"
            ]
          },
          "execution_count": 62,
          "metadata": {},
          "output_type": "execute_result"
        }
      ],
      "source": [
        "import torch\n",
        "\n",
        "embedding_dim = pretrained_embeddings.dim  \n",
        "weights_matrix = torch.zeros((len(vocab)+1, embedding_dim))\n",
        "\n",
        "# Fill in the weights matrix with GloVe vectors where available\n",
        "for word, idx in vocab.items():\n",
        "    if word in pretrained_embeddings.stoi:\n",
        "        weights_matrix[idx] = pretrained_embeddings.vectors[pretrained_embeddings.stoi[word]]\n",
        "    else:\n",
        "        weights_matrix[idx] = torch.randn(embedding_dim)  # Random initialization for unknown words\n",
        "\n",
        "# Create an embedding layer and load the pre-trained weights\n",
        "embedding_layer = nn.Embedding(len(vocab)+1, embedding_dim)\n",
        "embedding_layer.load_state_dict({'weight': weights_matrix})\n"
      ]
    },
    {
      "cell_type": "markdown",
      "id": "e770bf4f",
      "metadata": {},
      "source": [
        "## Build Torch RNN Model"
      ]
    },
    {
      "cell_type": "code",
      "execution_count": 63,
      "id": "ORZPwmdN9i6L",
      "metadata": {
        "id": "ORZPwmdN9i6L"
      },
      "outputs": [],
      "source": [
        "class RNNModel(nn.Module):\n",
        "    def __init__(self, vocab_size, embedding_dim, hidden_dim, pretrained_embeddings, dropout=0.2):\n",
        "        super(RNNModel, self).__init__()\n",
        "        self.embedding = nn.Embedding(vocab_size, embedding_dim)\n",
        "        self.embedding.weight.data.copy_(pretrained_embeddings)  # Load the pre-trained embeddings\n",
        "        self.embedding.weight.requires_grad = False  \n",
        "        self.rnn = nn.RNN(embedding_dim, hidden_dim, batch_first=True)\n",
        "        self.dropout = nn.Dropout(dropout)\n",
        "        self.fc = nn.Linear(hidden_dim, vocab_size)\n",
        "\n",
        "    def forward(self, x, hidden):\n",
        "        embedded = self.embedding(x)\n",
        "        output, hidden = self.rnn(embedded, hidden)\n",
        "        output = self.dropout(output)\n",
        "        logits = self.fc(output)\n",
        "        return logits, hidden\n",
        "\n",
        "    def init_hidden(self, batch_size):\n",
        "        return torch.zeros(1, batch_size, hidden_dim)\n"
      ]
    },
    {
      "cell_type": "code",
      "execution_count": 69,
      "id": "q7QlCvk6-K5T",
      "metadata": {
        "id": "q7QlCvk6-K5T"
      },
      "outputs": [],
      "source": [
        "vocab_size = len(vocab)+1\n",
        "learning_rate = 0.0001\n",
        "epochs = 20\n",
        "hidden_dim = 128\n",
        "\n",
        "output_dim = len(vocab)\n",
        "device = torch.device('cpu')\n",
        "model = RNNModel(vocab_size, pretrained_embeddings.dim, hidden_dim, weights_matrix).to(device)\n",
        "optimizer = torch.optim.Adam(model.parameters(), lr=learning_rate)\n",
        "criterion = nn.CrossEntropyLoss()"
      ]
    },
    {
      "cell_type": "code",
      "execution_count": 70,
      "id": "yyYFkrLV9n1g",
      "metadata": {
        "id": "yyYFkrLV9n1g"
      },
      "outputs": [
        {
          "name": "stdout",
          "output_type": "stream",
          "text": [
            "Epoch 1/20, Train Loss: 6.6351, Train Perplexity: 761.3664, Val Loss: 6.3224, Val Perplexity: 556.9096\n",
            "Epoch 2/20, Train Loss: 6.3154, Train Perplexity: 553.0238, Val Loss: 6.2023, Val Perplexity: 493.8948\n",
            "Epoch 3/20, Train Loss: 6.1710, Train Perplexity: 478.6828, Val Loss: 6.0659, Val Perplexity: 430.9267\n",
            "Epoch 4/20, Train Loss: 6.0427, Train Perplexity: 421.0322, Val Loss: 5.9565, Val Perplexity: 386.2424\n",
            "Epoch 5/20, Train Loss: 5.9450, Train Perplexity: 381.8578, Val Loss: 5.8760, Val Perplexity: 356.3729\n",
            "Epoch 6/20, Train Loss: 5.8664, Train Perplexity: 352.9673, Val Loss: 5.8081, Val Perplexity: 332.9973\n",
            "Epoch 7/20, Train Loss: 5.8007, Train Perplexity: 330.5268, Val Loss: 5.7491, Val Perplexity: 313.8998\n",
            "Epoch 8/20, Train Loss: 5.7443, Train Perplexity: 312.4060, Val Loss: 5.6949, Val Perplexity: 297.3452\n",
            "Epoch 9/20, Train Loss: 5.6952, Train Perplexity: 297.4334, Val Loss: 5.6529, Val Perplexity: 285.1045\n",
            "Epoch 10/20, Train Loss: 5.6527, Train Perplexity: 285.0628, Val Loss: 5.6149, Val Perplexity: 274.4814\n",
            "Epoch 11/20, Train Loss: 5.6141, Train Perplexity: 274.2561, Val Loss: 5.5787, Val Perplexity: 264.7321\n",
            "Epoch 12/20, Train Loss: 5.5795, Train Perplexity: 264.9471, Val Loss: 5.5490, Val Perplexity: 256.9686\n",
            "Epoch 13/20, Train Loss: 5.5489, Train Perplexity: 256.9456, Val Loss: 5.5221, Val Perplexity: 250.1670\n",
            "Epoch 14/20, Train Loss: 5.5198, Train Perplexity: 249.5823, Val Loss: 5.5007, Val Perplexity: 244.8680\n",
            "Epoch 15/20, Train Loss: 5.4943, Train Perplexity: 243.2927, Val Loss: 5.4764, Val Perplexity: 238.9937\n",
            "Epoch 16/20, Train Loss: 5.4692, Train Perplexity: 237.2797, Val Loss: 5.4591, Val Perplexity: 234.8805\n",
            "Epoch 17/20, Train Loss: 5.4467, Train Perplexity: 231.9876, Val Loss: 5.4408, Val Perplexity: 230.6152\n",
            "Epoch 18/20, Train Loss: 5.4255, Train Perplexity: 227.1318, Val Loss: 5.4206, Val Perplexity: 226.0144\n",
            "Epoch 19/20, Train Loss: 5.4052, Train Perplexity: 222.5591, Val Loss: 5.4043, Val Perplexity: 222.3673\n",
            "Epoch 20/20, Train Loss: 5.3862, Train Perplexity: 218.3636, Val Loss: 5.3898, Val Perplexity: 219.1557\n"
          ]
        }
      ],
      "source": [
        "def evaluate(model, data_loader, loss_fn, device):\n",
        "    model.eval()  \n",
        "    total_loss = 0\n",
        "    with torch.no_grad(): \n",
        "        for inputs, targets in data_loader:\n",
        "            inputs, targets = inputs.to(device), targets.to(device)\n",
        "\n",
        "\n",
        "            batch_size_current = inputs.size(0)\n",
        "            hidden = model.init_hidden(batch_size_current).to(device)\n",
        "\n",
        "            logits, _ = model(inputs, hidden)\n",
        "            loss = loss_fn(logits.transpose(1, 2), targets)  \n",
        "            total_loss += loss.item()\n",
        "\n",
        "    avg_loss = total_loss / len(data_loader)\n",
        "    perplexity = torch.exp(torch.tensor(avg_loss)).item()\n",
        "    return avg_loss, perplexity\n",
        "\n",
        "train_losses, train_perplexities = [], []\n",
        "val_losses, val_perplexities = [], []\n",
        "for epoch in range(epochs):\n",
        "    model.train()  \n",
        "    total_loss = 0\n",
        "    for inputs, targets in train_loader:\n",
        "        inputs, targets = inputs.to(device), targets.to(device)\n",
        "\n",
        "        # Dynamically adjust the hidden state to the current batch size\n",
        "        batch_size_current = inputs.size(0)\n",
        "        hidden = model.init_hidden(batch_size_current).to(device)\n",
        "\n",
        "        model.zero_grad()\n",
        "        logits, hidden = model(inputs, hidden)\n",
        "        hidden = hidden.detach()\n",
        "        loss = criterion(logits.transpose(1, 2), targets)\n",
        "        loss.backward()\n",
        "        optimizer.step()\n",
        "\n",
        "        total_loss += loss.item()\n",
        "\n",
        "    avg_train_loss = total_loss / len(train_loader)\n",
        "    train_losses.append(avg_train_loss)\n",
        "    train_perplexity = torch.exp(torch.tensor(avg_train_loss)).item()\n",
        "    train_perplexities.append(train_perplexity)\n",
        "\n",
        "    val_loss, val_perplexity = evaluate(model, val_loader, criterion, device)\n",
        "    val_losses.append(val_loss)\n",
        "    val_perplexities.append(val_perplexity)\n",
        "\n",
        "    print(f'Epoch {epoch+1}/{epochs}, '\n",
        "          f'Train Loss: {avg_train_loss:.4f}, Train Perplexity: {train_perplexity:.4f}, '\n",
        "          f'Val Loss: {val_loss:.4f}, Val Perplexity: {val_perplexity:.4f}')"
      ]
    },
    {
      "cell_type": "code",
      "execution_count": 71,
      "id": "-sm6Q3Lu53cJ",
      "metadata": {
        "id": "-sm6Q3Lu53cJ"
      },
      "outputs": [],
      "source": [
        "# save the model\n",
        "model_path = 'model.pth'\n",
        "torch.save(model.state_dict(), model_path)"
      ]
    },
    {
      "cell_type": "code",
      "execution_count": 73,
      "id": "HLr3r_Rm57_D",
      "metadata": {
        "id": "HLr3r_Rm57_D"
      },
      "outputs": [
        {
          "data": {
            "text/plain": [
              "RNNModel(\n",
              "  (embedding): Embedding(10000, 100)\n",
              "  (rnn): RNN(100, 128, batch_first=True)\n",
              "  (dropout): Dropout(p=0.2, inplace=False)\n",
              "  (fc): Linear(in_features=128, out_features=10000, bias=True)\n",
              ")"
            ]
          },
          "execution_count": 73,
          "metadata": {},
          "output_type": "execute_result"
        }
      ],
      "source": [
        "model = RNNModel(vocab_size, pretrained_embeddings.dim, hidden_dim, weights_matrix).to(device)\n",
        "\n",
        "# Loading model state dictionary\n",
        "model.load_state_dict(torch.load(model_path))\n",
        "model.eval()  # Set the model to evaluation mode"
      ]
    },
    {
      "cell_type": "code",
      "execution_count": 74,
      "id": "ySJZx8j56FO_",
      "metadata": {
        "id": "ySJZx8j56FO_"
      },
      "outputs": [
        {
          "name": "stdout",
          "output_type": "stream",
          "text": [
            "Test Perplexity: 206.8350372314453\n"
          ]
        }
      ],
      "source": [
        "def evaluate_perplexity(model, data_loader, device):\n",
        "    model.eval() \n",
        "    total_loss = 0\n",
        "    loss_fn = nn.CrossEntropyLoss()\n",
        "\n",
        "    with torch.no_grad():\n",
        "        for inputs, targets in data_loader:\n",
        "            inputs, targets = inputs.to(device), targets.to(device)\n",
        "\n",
        "            batch_size_current = inputs.size(0)\n",
        "            hidden = model.init_hidden(batch_size_current).to(device)\n",
        "\n",
        "            outputs, _ = model(inputs, hidden)\n",
        "            loss = loss_fn(outputs.transpose(1, 2), targets) \n",
        "\n",
        "            total_loss += loss.item() * inputs.size(0) \n",
        "\n",
        "\n",
        "    avg_loss = total_loss / len(data_loader.dataset) \n",
        "\n",
        "\n",
        "    perplexity = torch.exp(torch.tensor(avg_loss))\n",
        "    return perplexity.item()\n",
        "\n",
        "\n",
        "test_perplexity = evaluate_perplexity(model, test_loader, device)\n",
        "print(f'Test Perplexity: {test_perplexity}')"
      ]
    },
    {
      "cell_type": "code",
      "execution_count": 75,
      "id": "84bfd3da",
      "metadata": {},
      "outputs": [
        {
          "data": {
            "image/png": "[encoded data removed]",
            "text/plain": [
              "<Figure size 1000x600 with 1 Axes>"
            ]
          },
          "metadata": {},
          "output_type": "display_data"
        }
      ],
      "source": [
        "import matplotlib.pyplot as plt\n",
        "\n",
        "\n",
        "epochs = range(1, 21)\n",
        "\n",
        "plt.figure(figsize=(10, 6))\n",
        "plt.plot(epochs, train_perplexities, 'bo-', label='Training Perplexity')\n",
        "plt.plot(epochs, val_perplexities, 'ro-', label='Validation Perplexity')\n",
        "plt.title('Training and Validation Perplexity')\n",
        "plt.xlabel('Epoch')\n",
        "plt.ylabel('Perplexity')\n",
        "plt.legend()\n",
        "plt.show()"
      ]
    },
    {
      "cell_type": "markdown",
      "id": "df7098df",
      "metadata": {},
      "source": [
        "### Bonus Questions:"
      ]
    },
    {
      "cell_type": "code",
      "execution_count": 26,
      "id": "d20ca1d6",
      "metadata": {},
      "outputs": [
        {
          "name": "stderr",
          "output_type": "stream",
          "text": [
            "[nltk_data] Downloading package wordnet to /Users/genius/nltk_data...\n"
          ]
        },
        {
          "data": {
            "text/plain": [
              "True"
            ]
          },
          "execution_count": 26,
          "metadata": {},
          "output_type": "execute_result"
        }
      ],
      "source": [
        "import torch\n",
        "from torch.utils.data import Dataset, DataLoader\n",
        "from torch import nn, optim\n",
        "from collections import Counter\n",
        "import numpy as np\n",
        "import nltk\n",
        "from nltk.stem import WordNetLemmatizer\n",
        "from collections import Counter\n",
        "\n",
        "nltk.download('wordnet')"
      ]
    },
    {
      "cell_type": "code",
      "execution_count": 28,
      "id": "f15890a5",
      "metadata": {},
      "outputs": [],
      "source": [
        "def create_vocabulary(corpus, vocab_size):\n",
        "    \"\"\"\n",
        "    Create vocabulary mapping from a corpus.\n",
        "    \"\"\"\n",
        "    lemmatizer = WordNetLemmatizer()\n",
        "\n",
        "    tokens = corpus.split()\n",
        "\n",
        "    lemmatized_tokens = [lemmatizer.lemmatize(token) for token in tokens]\n",
        "\n",
        "    # tokens = corpus.split()\n",
        "    token_freqs = {}\n",
        "    for token in lemmatized_tokens:\n",
        "        token_freqs[token] = token_freqs.get(token, 0) + 1\n",
        "\n",
        "    sorted_tokens = sorted(token_freqs.items(), key=lambda x: x[1], reverse=True)\n",
        "    vocab = {\"<unk>\": 0}\n",
        "    for i, (token, _) in enumerate(sorted_tokens):\n",
        "        if i >= vocab_size - 1:  # Reserve a spot for <unk>\n",
        "            break\n",
        "        vocab[token] = len(vocab)\n",
        "    return vocab"
      ]
    },
    {
      "cell_type": "code",
      "execution_count": 47,
      "id": "a92ef37b",
      "metadata": {},
      "outputs": [],
      "source": [
        "def corpus_to_int(corpus, vocab):\n",
        "    \"\"\"\n",
        "    Convert a corpus to its integer representation using a vocabulary mapping.\n",
        "    \"\"\"\n",
        "    tokens = corpus.split()\n",
        "    return [vocab.get(token, 0) for token in tokens]  # Default to 0 if token is <unk>"
      ]
    },
    {
      "cell_type": "code",
      "execution_count": 51,
      "id": "52ccb250",
      "metadata": {},
      "outputs": [],
      "source": [
        "vocab_size = 10000\n",
        "vocab = create_vocabulary(corpus, vocab_size)"
      ]
    },
    {
      "cell_type": "code",
      "execution_count": 48,
      "id": "dd8640d0",
      "metadata": {},
      "outputs": [],
      "source": [
        "train_corpus = read_corpus([\"wiki2.train.txt\"])\n",
        "train_int = corpus_to_int(train_corpus, vocab)\n",
        "\n",
        "val_corpus = read_corpus([\"wiki2.valid.txt\"])\n",
        "val_int = corpus_to_int(val_corpus, vocab)\n",
        "\n",
        "test_corpus = read_corpus([\"wiki2.test.txt\"])\n",
        "test_int = corpus_to_int(test_corpus, vocab)"
      ]
    },
    {
      "cell_type": "code",
      "execution_count": 49,
      "id": "a5621cd4",
      "metadata": {},
      "outputs": [],
      "source": [
        "sequence_length = 20\n",
        "batch_size = 64  # Example batch size\n",
        "train_dataset = WikiDataset(train_int, sequence_length)\n",
        "val_dataset = WikiDataset(val_int, sequence_length)\n",
        "test_dataset = WikiDataset(test_int, sequence_length)\n",
        "\n",
        "train_loader = DataLoader(train_dataset, batch_size=batch_size, shuffle=True)\n",
        "val_loader = DataLoader(val_dataset, batch_size=batch_size, shuffle=False)\n",
        "test_loader = DataLoader(test_dataset, batch_size=batch_size, shuffle=False)"
      ]
    },
    {
      "cell_type": "code",
      "execution_count": 52,
      "id": "d3ff81c8",
      "metadata": {},
      "outputs": [
        {
          "data": {
            "text/plain": [
              "<All keys matched successfully>"
            ]
          },
          "execution_count": 52,
          "metadata": {},
          "output_type": "execute_result"
        }
      ],
      "source": [
        "embedding_dim = pretrained_embeddings.dim  \n",
        "weights_matrix = torch.zeros((len(vocab)+1, embedding_dim))\n",
        "\n",
        "# Fill in the weights matrix with GloVe vectors where available\n",
        "for word, idx in vocab.items():\n",
        "    if word in pretrained_embeddings.stoi:\n",
        "        weights_matrix[idx] = pretrained_embeddings.vectors[pretrained_embeddings.stoi[word]]\n",
        "    else:\n",
        "        weights_matrix[idx] = torch.randn(embedding_dim)  # Random initialization for unknown words\n",
        "\n",
        "# Create an embedding layer and load the pre-trained weights\n",
        "embedding_layer = nn.Embedding(len(vocab)+1, embedding_dim)\n",
        "embedding_layer.load_state_dict({'weight': weights_matrix})"
      ]
    },
    {
      "cell_type": "code",
      "execution_count": 53,
      "id": "e9983d83",
      "metadata": {},
      "outputs": [
        {
          "data": {
            "text/plain": [
              "RNNImproved(\n",
              "  (embedding): Embedding(10000, 100)\n",
              "  (rnn): RNN(100, 128, batch_first=True)\n",
              "  (dropout): Dropout(p=0.2, inplace=False)\n",
              "  (fc): Linear(in_features=128, out_features=10000, bias=True)\n",
              ")"
            ]
          },
          "execution_count": 53,
          "metadata": {},
          "output_type": "execute_result"
        }
      ],
      "source": [
        "vocab_size = len(vocab) + 1\n",
        "embedding_dim = 100\n",
        "hidden_dim = 128\n",
        "dropout_prob = 0.2\n",
        "time_steps = 20\n",
        "batch_size = 64\n",
        "learning_rate = 0.0001\n",
        "epochs = 20\n",
        "\n",
        "# Model initialization\n",
        "model = RNNModel(vocab_size, pretrained_embeddings.dim, hidden_dim, vocab_size, weights_matrix).to(device)\n",
        "optimizer = torch.optim.Adam(model.parameters(), lr=learning_rate)\n",
        "criterion = nn.CrossEntropyLoss()\n",
        "\n",
        "\n",
        "device = torch.device('cpu')\n",
        "model.to(device)"
      ]
    },
    {
      "cell_type": "code",
      "execution_count": 54,
      "id": "9789da42",
      "metadata": {},
      "outputs": [
        {
          "name": "stdout",
          "output_type": "stream",
          "text": [
            "Epoch 1/20, Train Loss: 6.3407, Train Perplexity: 567.1971, Val Loss: 5.9837, Val Perplexity: 396.9152\n",
            "Epoch 2/20, Train Loss: 5.9709, Train Perplexity: 391.8463, Val Loss: 5.8648, Val Perplexity: 352.4068\n",
            "Epoch 3/20, Train Loss: 5.8326, Train Perplexity: 341.2427, Val Loss: 5.7312, Val Perplexity: 308.3260\n",
            "Epoch 4/20, Train Loss: 5.7118, Train Perplexity: 302.4142, Val Loss: 5.6364, Val Perplexity: 280.4554\n",
            "Epoch 5/20, Train Loss: 5.6269, Train Perplexity: 277.7957, Val Loss: 5.5660, Val Perplexity: 261.3925\n",
            "Epoch 6/20, Train Loss: 5.5610, Train Perplexity: 260.0865, Val Loss: 5.5105, Val Perplexity: 247.2764\n",
            "Epoch 7/20, Train Loss: 5.5071, Train Perplexity: 246.4413, Val Loss: 5.4621, Val Perplexity: 235.5889\n",
            "Epoch 8/20, Train Loss: 5.4597, Train Perplexity: 235.0328, Val Loss: 5.4225, Val Perplexity: 226.4419\n",
            "Epoch 9/20, Train Loss: 5.4183, Train Perplexity: 225.4856, Val Loss: 5.3830, Val Perplexity: 217.6702\n",
            "Epoch 10/20, Train Loss: 5.3814, Train Perplexity: 217.3361, Val Loss: 5.3519, Val Perplexity: 211.0021\n",
            "Epoch 11/20, Train Loss: 5.3471, Train Perplexity: 210.0036, Val Loss: 5.3220, Val Perplexity: 204.7914\n",
            "Epoch 12/20, Train Loss: 5.3156, Train Perplexity: 203.4789, Val Loss: 5.2932, Val Perplexity: 198.9788\n",
            "Epoch 13/20, Train Loss: 5.2864, Train Perplexity: 197.6271, Val Loss: 5.2692, Val Perplexity: 194.2641\n",
            "Epoch 14/20, Train Loss: 5.2602, Train Perplexity: 192.5120, Val Loss: 5.2468, Val Perplexity: 189.9661\n",
            "Epoch 15/20, Train Loss: 5.2353, Train Perplexity: 187.7867, Val Loss: 5.2272, Val Perplexity: 186.2686\n",
            "Epoch 16/20, Train Loss: 5.2135, Train Perplexity: 183.7372, Val Loss: 5.2080, Val Perplexity: 182.7273\n",
            "Epoch 17/20, Train Loss: 5.1924, Train Perplexity: 179.9064, Val Loss: 5.1923, Val Perplexity: 179.8893\n",
            "Epoch 18/20, Train Loss: 5.1734, Train Perplexity: 176.5118, Val Loss: 5.1770, Val Perplexity: 177.1501\n",
            "Epoch 19/20, Train Loss: 5.1555, Train Perplexity: 173.3796, Val Loss: 5.1637, Val Perplexity: 174.8149\n",
            "Epoch 20/20, Train Loss: 5.1387, Train Perplexity: 170.4955, Val Loss: 5.1483, Val Perplexity: 172.1376\n"
          ]
        }
      ],
      "source": [
        "def evaluate(model, data_loader, loss_fn, device):\n",
        "    model.eval()  \n",
        "    total_loss = 0\n",
        "    with torch.no_grad():  \n",
        "        for inputs, targets in data_loader:\n",
        "            inputs, targets = inputs.to(device), targets.to(device)\n",
        "\n",
        "           \n",
        "            batch_size_current = inputs.size(0)\n",
        "            hidden = model.init_hidden(batch_size_current).to(device)\n",
        "\n",
        "            logits, _ = model(inputs, hidden)\n",
        "            loss = loss_fn(logits.transpose(1, 2), targets)  \n",
        "            total_loss += loss.item()\n",
        "\n",
        "    avg_loss = total_loss / len(data_loader)\n",
        "    perplexity = torch.exp(torch.tensor(avg_loss)).item()\n",
        "    return avg_loss, perplexity\n",
        "\n",
        "train_losses, train_perplexities = [], []\n",
        "val_losses, val_perplexities = [], []\n",
        "for epoch in range(epochs):\n",
        "    model.train() \n",
        "    total_loss = 0\n",
        "    for inputs, targets in train_loader:\n",
        "        inputs, targets = inputs.to(device), targets.to(device)\n",
        "\n",
        "        batch_size_current = inputs.size(0)\n",
        "        hidden = model.init_hidden(batch_size_current).to(device)\n",
        "\n",
        "        model.zero_grad()\n",
        "        logits, hidden = model(inputs, hidden)\n",
        "        hidden = hidden.detach()\n",
        "        loss = criterion(logits.transpose(1, 2), targets)\n",
        "        loss.backward()\n",
        "        optimizer.step()\n",
        "\n",
        "        total_loss += loss.item()\n",
        "\n",
        "    avg_train_loss = total_loss / len(train_loader)\n",
        "    train_losses.append(avg_train_loss)\n",
        "    train_perplexity = torch.exp(torch.tensor(avg_train_loss)).item()\n",
        "    train_perplexities.append(train_perplexity)\n",
        "\n",
        "    val_loss, val_perplexity = evaluate(model, val_loader, criterion, device)\n",
        "    val_losses.append(val_loss)\n",
        "    val_perplexities.append(val_perplexity)\n",
        "\n",
        "    print(f'Epoch {epoch+1}/{epochs}, '\n",
        "          f'Train Loss: {avg_train_loss:.4f}, Train Perplexity: {train_perplexity:.4f}, '\n",
        "          f'Val Loss: {val_loss:.4f}, Val Perplexity: {val_perplexity:.4f}')"
      ]
    },
    {
      "cell_type": "code",
      "execution_count": 55,
      "id": "4878d19d",
      "metadata": {},
      "outputs": [
        {
          "data": {
            "image/png": "[encoded data removed]",
            "text/plain": [
              "<Figure size 1000x600 with 1 Axes>"
            ]
          },
          "metadata": {},
          "output_type": "display_data"
        }
      ],
      "source": [
        "import matplotlib.pyplot as plt\n",
        "\n",
        "\n",
        "epochs = range(1, 21)\n",
        "\n",
        "plt.figure(figsize=(10, 6))\n",
        "plt.plot(epochs, train_perplexities, 'bo-', label='Training Perplexity')\n",
        "plt.plot(epochs, val_perplexities, 'ro-', label='Validation Perplexity')\n",
        "plt.title('Training and Validation Perplexity')\n",
        "plt.xlabel('Epoch')\n",
        "plt.ylabel('Perplexity')\n",
        "plt.legend()\n",
        "plt.show()"
      ]
    },
    {
      "cell_type": "code",
      "execution_count": 56,
      "id": "04fdf136",
      "metadata": {},
      "outputs": [],
      "source": [
        "# save the model\n",
        "model_path = 'model.pth'\n",
        "torch.save(model.state_dict(), model_path)"
      ]
    },
    {
      "cell_type": "code",
      "execution_count": 57,
      "id": "afd7468e",
      "metadata": {},
      "outputs": [
        {
          "name": "stdout",
          "output_type": "stream",
          "text": [
            "Test Perplexity: 163.32322692871094\n"
          ]
        }
      ],
      "source": [
        "def evaluate_perplexity(model, data_loader, device):\n",
        "    model.eval()  # Set model to evaluation mode\n",
        "    total_loss = 0\n",
        "    loss_fn = nn.CrossEntropyLoss()\n",
        "\n",
        "    with torch.no_grad():\n",
        "        for inputs, targets in data_loader:\n",
        "            inputs, targets = inputs.to(device), targets.to(device)\n",
        "\n",
        "            \n",
        "            batch_size_current = inputs.size(0)\n",
        "            hidden = model.init_hidden(batch_size_current).to(device)\n",
        "\n",
        "           \n",
        "            outputs, _ = model(inputs, hidden)\n",
        "            loss = loss_fn(outputs.transpose(1, 2), targets)  \n",
        "\n",
        "            total_loss += loss.item() * inputs.size(0) \n",
        "\n",
        "    avg_loss = total_loss / len(data_loader.dataset) \n",
        "\n",
        "\n",
        "    perplexity = torch.exp(torch.tensor(avg_loss))\n",
        "    return perplexity.item()\n",
        "\n",
        "\n",
        "test_perplexity = evaluate_perplexity(model, test_loader, device)\n",
        "print(f'Test Perplexity: {test_perplexity}')"
      ]
    }
  ],
  "metadata": {
    "accelerator": "GPU",
    "colab": {
      "gpuType": "T4",
      "provenance": []
    },
    "kernelspec": {
      "display_name": "Python 3",
      "name": "python3"
    },
    "language_info": {
      "codemirror_mode": {
        "name": "ipython",
        "version": 3
      },
      "file_extension": ".py",
      "mimetype": "text/x-python",
      "name": "python",
      "nbconvert_exporter": "python",
      "pygments_lexer": "ipython3",
      "version": "3.9.6"
    }
  },
  "nbformat": 4,
  "nbformat_minor": 5
}
